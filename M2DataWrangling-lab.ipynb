{
  "metadata": {
    "kernelspec": {
      "name": "python",
      "display_name": "Python (Pyodide)",
      "language": "python"
    },
    "language_info": {
      "codemirror_mode": {
        "name": "python",
        "version": 3
      },
      "file_extension": ".py",
      "mimetype": "text/x-python",
      "name": "python",
      "nbconvert_exporter": "python",
      "pygments_lexer": "ipython3",
      "version": "3.8"
    },
    "prev_pub_hash": "955deb52b02eec3e16e61df584232f2cc045079d697f475cb65582dbfebe300c"
  },
  "nbformat_minor": 4,
  "nbformat": 4,
  "cells": [
    {
      "cell_type": "markdown",
      "source": "<p style=\"text-align:center\">\n    <a href=\"https://skills.network/?utm_medium=Exinfluencer&utm_source=Exinfluencer&utm_content=000026UJ&utm_term=10006555&utm_id=NA-SkillsNetwork-Channel-SkillsNetworkCoursesIBMDA0321ENSkillsNetwork928-2022-01-01\" target=\"_blank\">\n    <img src=\"https://cf-courses-data.s3.us.cloud-object-storage.appdomain.cloud/assets/logos/SN_web_lightmode.png\" width=\"200\" alt=\"Skills Network Logo\"  />\n    </a>\n</p>\n",
      "metadata": {}
    },
    {
      "cell_type": "markdown",
      "source": "# **Data Wrangling Lab**\n",
      "metadata": {}
    },
    {
      "cell_type": "markdown",
      "source": "Estimated time needed: **45 to 60** minutes\n",
      "metadata": {}
    },
    {
      "cell_type": "markdown",
      "source": "In this assignment you will be performing data wrangling.\n",
      "metadata": {}
    },
    {
      "cell_type": "markdown",
      "source": "## Objectives\n",
      "metadata": {}
    },
    {
      "cell_type": "markdown",
      "source": "In this lab you will perform the following:\n",
      "metadata": {}
    },
    {
      "cell_type": "markdown",
      "source": "-   Identify duplicate values in the dataset.\n\n-   Remove duplicate values from the dataset.\n\n-   Identify missing values in the dataset.\n\n-   Impute the missing values in the dataset.\n\n-   Normalize data in the dataset.\n",
      "metadata": {}
    },
    {
      "cell_type": "markdown",
      "source": "<hr>\n",
      "metadata": {}
    },
    {
      "cell_type": "markdown",
      "source": "## Hands on Lab\n",
      "metadata": {}
    },
    {
      "cell_type": "markdown",
      "source": "Import pandas module.\n",
      "metadata": {}
    },
    {
      "cell_type": "code",
      "source": "import pandas as pd",
      "metadata": {
        "trusted": true
      },
      "outputs": [],
      "execution_count": 3
    },
    {
      "cell_type": "markdown",
      "source": "Load the dataset into a dataframe.\n",
      "metadata": {}
    },
    {
      "cell_type": "markdown",
      "source": "<h2>Read Data</h2>\n<p>\nWe utilize the <code>pandas.read_csv()</code> function for reading CSV files. However, in this version of the lab, which operates on JupyterLite, the dataset needs to be downloaded to the interface using the provided code below.\n</p>\n",
      "metadata": {}
    },
    {
      "cell_type": "markdown",
      "source": "The functions below will download the dataset into your browser:\n",
      "metadata": {}
    },
    {
      "cell_type": "code",
      "source": "from pyodide.http import pyfetch\n\nasync def download(url, filename):\n    response = await pyfetch(url)\n    if response.status == 200:\n        with open(filename, \"wb\") as f:\n            f.write(await response.bytes())",
      "metadata": {
        "trusted": true
      },
      "outputs": [],
      "execution_count": 4
    },
    {
      "cell_type": "code",
      "source": "file_path = \"https://cf-courses-data.s3.us.cloud-object-storage.appdomain.cloud/IBM-DA0321EN-SkillsNetwork/LargeData/m1_survey_data.csv\"",
      "metadata": {
        "trusted": true
      },
      "outputs": [],
      "execution_count": 5
    },
    {
      "cell_type": "markdown",
      "source": "To obtain the dataset, utilize the download() function as defined above:  \n",
      "metadata": {}
    },
    {
      "cell_type": "code",
      "source": "await download(file_path, \"m1_survey_data.csv\")\nfile_name=\"m1_survey_data.csv\"",
      "metadata": {
        "trusted": true
      },
      "outputs": [],
      "execution_count": 6
    },
    {
      "cell_type": "markdown",
      "source": "Utilize the Pandas method read_csv() to load the data into a dataframe.\n",
      "metadata": {}
    },
    {
      "cell_type": "code",
      "source": "df = pd.read_csv(file_name)\ndf.head()",
      "metadata": {
        "trusted": true
      },
      "outputs": [
        {
          "execution_count": 8,
          "output_type": "execute_result",
          "data": {
            "text/plain": "   Respondent                      MainBranch Hobbyist  \\\n0           4  I am a developer by profession       No   \n1           9  I am a developer by profession      Yes   \n2          13  I am a developer by profession      Yes   \n3          16  I am a developer by profession      Yes   \n4          17  I am a developer by profession      Yes   \n\n                                         OpenSourcer  \\\n0                                              Never   \n1                         Once a month or more often   \n2  Less than once a month but more than once per ...   \n3                                              Never   \n4  Less than once a month but more than once per ...   \n\n                                          OpenSource          Employment  \\\n0  The quality of OSS and closed source software ...  Employed full-time   \n1  The quality of OSS and closed source software ...  Employed full-time   \n2  OSS is, on average, of HIGHER quality than pro...  Employed full-time   \n3  The quality of OSS and closed source software ...  Employed full-time   \n4  The quality of OSS and closed source software ...  Employed full-time   \n\n          Country Student                                            EdLevel  \\\n0   United States      No           Bachelor’s degree (BA, BS, B.Eng., etc.)   \n1     New Zealand      No  Some college/university study without earning ...   \n2   United States      No        Master’s degree (MA, MS, M.Eng., MBA, etc.)   \n3  United Kingdom      No        Master’s degree (MA, MS, M.Eng., MBA, etc.)   \n4       Australia      No           Bachelor’s degree (BA, BS, B.Eng., etc.)   \n\n                                      UndergradMajor  ...  \\\n0  Computer science, computer engineering, or sof...  ...   \n1  Computer science, computer engineering, or sof...  ...   \n2  Computer science, computer engineering, or sof...  ...   \n3                                                NaN  ...   \n4  Computer science, computer engineering, or sof...  ...   \n\n                              WelcomeChange  \\\n0   Just as welcome now as I felt last year   \n1   Just as welcome now as I felt last year   \n2  Somewhat more welcome now than last year   \n3   Just as welcome now as I felt last year   \n4   Just as welcome now as I felt last year   \n\n                                        SONewContent   Age Gender Trans  \\\n0  Tech articles written by other developers;Indu...  22.0    Man    No   \n1                                                NaN  23.0    Man    No   \n2  Tech articles written by other developers;Cour...  28.0    Man    No   \n3  Tech articles written by other developers;Indu...  26.0    Man    No   \n4  Tech articles written by other developers;Indu...  29.0    Man    No   \n\n                 Sexuality                              Ethnicity Dependents  \\\n0  Straight / Heterosexual           White or of European descent         No   \n1                 Bisexual           White or of European descent         No   \n2  Straight / Heterosexual           White or of European descent        Yes   \n3  Straight / Heterosexual           White or of European descent         No   \n4  Straight / Heterosexual  Hispanic or Latino/Latina;Multiracial         No   \n\n            SurveyLength                  SurveyEase  \n0  Appropriate in length                        Easy  \n1  Appropriate in length  Neither easy nor difficult  \n2  Appropriate in length                        Easy  \n3  Appropriate in length  Neither easy nor difficult  \n4  Appropriate in length                        Easy  \n\n[5 rows x 85 columns]",
            "text/html": "<div>\n<style scoped>\n    .dataframe tbody tr th:only-of-type {\n        vertical-align: middle;\n    }\n\n    .dataframe tbody tr th {\n        vertical-align: top;\n    }\n\n    .dataframe thead th {\n        text-align: right;\n    }\n</style>\n<table border=\"1\" class=\"dataframe\">\n  <thead>\n    <tr style=\"text-align: right;\">\n      <th></th>\n      <th>Respondent</th>\n      <th>MainBranch</th>\n      <th>Hobbyist</th>\n      <th>OpenSourcer</th>\n      <th>OpenSource</th>\n      <th>Employment</th>\n      <th>Country</th>\n      <th>Student</th>\n      <th>EdLevel</th>\n      <th>UndergradMajor</th>\n      <th>...</th>\n      <th>WelcomeChange</th>\n      <th>SONewContent</th>\n      <th>Age</th>\n      <th>Gender</th>\n      <th>Trans</th>\n      <th>Sexuality</th>\n      <th>Ethnicity</th>\n      <th>Dependents</th>\n      <th>SurveyLength</th>\n      <th>SurveyEase</th>\n    </tr>\n  </thead>\n  <tbody>\n    <tr>\n      <th>0</th>\n      <td>4</td>\n      <td>I am a developer by profession</td>\n      <td>No</td>\n      <td>Never</td>\n      <td>The quality of OSS and closed source software ...</td>\n      <td>Employed full-time</td>\n      <td>United States</td>\n      <td>No</td>\n      <td>Bachelor’s degree (BA, BS, B.Eng., etc.)</td>\n      <td>Computer science, computer engineering, or sof...</td>\n      <td>...</td>\n      <td>Just as welcome now as I felt last year</td>\n      <td>Tech articles written by other developers;Indu...</td>\n      <td>22.0</td>\n      <td>Man</td>\n      <td>No</td>\n      <td>Straight / Heterosexual</td>\n      <td>White or of European descent</td>\n      <td>No</td>\n      <td>Appropriate in length</td>\n      <td>Easy</td>\n    </tr>\n    <tr>\n      <th>1</th>\n      <td>9</td>\n      <td>I am a developer by profession</td>\n      <td>Yes</td>\n      <td>Once a month or more often</td>\n      <td>The quality of OSS and closed source software ...</td>\n      <td>Employed full-time</td>\n      <td>New Zealand</td>\n      <td>No</td>\n      <td>Some college/university study without earning ...</td>\n      <td>Computer science, computer engineering, or sof...</td>\n      <td>...</td>\n      <td>Just as welcome now as I felt last year</td>\n      <td>NaN</td>\n      <td>23.0</td>\n      <td>Man</td>\n      <td>No</td>\n      <td>Bisexual</td>\n      <td>White or of European descent</td>\n      <td>No</td>\n      <td>Appropriate in length</td>\n      <td>Neither easy nor difficult</td>\n    </tr>\n    <tr>\n      <th>2</th>\n      <td>13</td>\n      <td>I am a developer by profession</td>\n      <td>Yes</td>\n      <td>Less than once a month but more than once per ...</td>\n      <td>OSS is, on average, of HIGHER quality than pro...</td>\n      <td>Employed full-time</td>\n      <td>United States</td>\n      <td>No</td>\n      <td>Master’s degree (MA, MS, M.Eng., MBA, etc.)</td>\n      <td>Computer science, computer engineering, or sof...</td>\n      <td>...</td>\n      <td>Somewhat more welcome now than last year</td>\n      <td>Tech articles written by other developers;Cour...</td>\n      <td>28.0</td>\n      <td>Man</td>\n      <td>No</td>\n      <td>Straight / Heterosexual</td>\n      <td>White or of European descent</td>\n      <td>Yes</td>\n      <td>Appropriate in length</td>\n      <td>Easy</td>\n    </tr>\n    <tr>\n      <th>3</th>\n      <td>16</td>\n      <td>I am a developer by profession</td>\n      <td>Yes</td>\n      <td>Never</td>\n      <td>The quality of OSS and closed source software ...</td>\n      <td>Employed full-time</td>\n      <td>United Kingdom</td>\n      <td>No</td>\n      <td>Master’s degree (MA, MS, M.Eng., MBA, etc.)</td>\n      <td>NaN</td>\n      <td>...</td>\n      <td>Just as welcome now as I felt last year</td>\n      <td>Tech articles written by other developers;Indu...</td>\n      <td>26.0</td>\n      <td>Man</td>\n      <td>No</td>\n      <td>Straight / Heterosexual</td>\n      <td>White or of European descent</td>\n      <td>No</td>\n      <td>Appropriate in length</td>\n      <td>Neither easy nor difficult</td>\n    </tr>\n    <tr>\n      <th>4</th>\n      <td>17</td>\n      <td>I am a developer by profession</td>\n      <td>Yes</td>\n      <td>Less than once a month but more than once per ...</td>\n      <td>The quality of OSS and closed source software ...</td>\n      <td>Employed full-time</td>\n      <td>Australia</td>\n      <td>No</td>\n      <td>Bachelor’s degree (BA, BS, B.Eng., etc.)</td>\n      <td>Computer science, computer engineering, or sof...</td>\n      <td>...</td>\n      <td>Just as welcome now as I felt last year</td>\n      <td>Tech articles written by other developers;Indu...</td>\n      <td>29.0</td>\n      <td>Man</td>\n      <td>No</td>\n      <td>Straight / Heterosexual</td>\n      <td>Hispanic or Latino/Latina;Multiracial</td>\n      <td>No</td>\n      <td>Appropriate in length</td>\n      <td>Easy</td>\n    </tr>\n  </tbody>\n</table>\n<p>5 rows × 85 columns</p>\n</div>"
          },
          "metadata": {}
        }
      ],
      "execution_count": 8
    },
    {
      "cell_type": "markdown",
      "source": "> Note: This version of the lab is working on JupyterLite, which requires the dataset to be downloaded to the interface.While working on the downloaded version of this notebook on their local machines(Jupyter Anaconda), the learners can simply **skip the steps above,** and simply use the URL directly in the `pandas.read_csv()` function. You can uncomment and run the statements in the cell below.\n",
      "metadata": {}
    },
    {
      "cell_type": "code",
      "source": "#df = pd.read_csv(\"https://cf-courses-data.s3.us.cloud-object-storage.appdomain.cloud/IBM-DA0321EN-SkillsNetwork/LargeData/m1_survey_data.csv\")",
      "metadata": {},
      "outputs": [],
      "execution_count": null
    },
    {
      "cell_type": "markdown",
      "source": "## Finding duplicates\n",
      "metadata": {}
    },
    {
      "cell_type": "markdown",
      "source": "In this section you will identify duplicate values in the dataset.\n",
      "metadata": {}
    },
    {
      "cell_type": "markdown",
      "source": " Find how many duplicate rows exist in the dataframe.\n",
      "metadata": {}
    },
    {
      "cell_type": "code",
      "source": "# your code goes here\ndf_duplicate=df[df.duplicated(keep='last')]\nprint('Number of Duplicate rows in the dataframe ',len(df_duplicate))",
      "metadata": {
        "trusted": true
      },
      "outputs": [
        {
          "name": "stdout",
          "text": "Number of Duplicate rows in the dataframe  154\n",
          "output_type": "stream"
        }
      ],
      "execution_count": 14
    },
    {
      "cell_type": "code",
      "source": "df_duplicate",
      "metadata": {
        "trusted": true
      },
      "outputs": [
        {
          "execution_count": 16,
          "output_type": "execute_result",
          "data": {
            "text/plain": "      Respondent                                         MainBranch Hobbyist  \\\n1107        2339                     I am a developer by profession      Yes   \n1108        2342                     I am a developer by profession      Yes   \n1109        2343                     I am a developer by profession      Yes   \n1110        2344                     I am a developer by profession      Yes   \n1111        2347                     I am a developer by profession      Yes   \n...          ...                                                ...      ...   \n2265        4674  I am not primarily a developer, but I write co...      Yes   \n2266        4675                     I am a developer by profession      Yes   \n2267        4676                     I am a developer by profession      Yes   \n2268        4677                     I am a developer by profession      Yes   \n2269        4679                     I am a developer by profession      Yes   \n\n                                            OpenSourcer  \\\n1107                         Once a month or more often   \n1108                                              Never   \n1109  Less than once a month but more than once per ...   \n1110                                              Never   \n1111                                              Never   \n...                                                 ...   \n2265                            Less than once per year   \n2266                                              Never   \n2267                                              Never   \n2268                         Once a month or more often   \n2269  Less than once a month but more than once per ...   \n\n                                             OpenSource          Employment  \\\n1107  OSS is, on average, of HIGHER quality than pro...  Employed full-time   \n1108  The quality of OSS and closed source software ...  Employed full-time   \n1109  OSS is, on average, of LOWER quality than prop...  Employed full-time   \n1110  The quality of OSS and closed source software ...  Employed full-time   \n1111  OSS is, on average, of HIGHER quality than pro...  Employed full-time   \n...                                                 ...                 ...   \n2265  The quality of OSS and closed source software ...  Employed full-time   \n2266  OSS is, on average, of HIGHER quality than pro...  Employed full-time   \n2267  OSS is, on average, of HIGHER quality than pro...  Employed full-time   \n2268  OSS is, on average, of HIGHER quality than pro...  Employed full-time   \n2269  The quality of OSS and closed source software ...  Employed full-time   \n\n             Country Student  \\\n1107   United States      No   \n1108  United Kingdom      No   \n1109          Canada      No   \n1110   United States      No   \n1111  United Kingdom      No   \n...              ...     ...   \n2265      Bangladesh      No   \n2266   United States      No   \n2267         Finland      No   \n2268  United Kingdom      No   \n2269   United States      No   \n\n                                                EdLevel  \\\n1107  Some college/university study without earning ...   \n1108  Some college/university study without earning ...   \n1109        Master’s degree (MA, MS, M.Eng., MBA, etc.)   \n1110           Bachelor’s degree (BA, BS, B.Eng., etc.)   \n1111        Master’s degree (MA, MS, M.Eng., MBA, etc.)   \n...                                                 ...   \n2265           Bachelor’s degree (BA, BS, B.Eng., etc.)   \n2266           Bachelor’s degree (BA, BS, B.Eng., etc.)   \n2267        Master’s degree (MA, MS, M.Eng., MBA, etc.)   \n2268           Bachelor’s degree (BA, BS, B.Eng., etc.)   \n2269        Master’s degree (MA, MS, M.Eng., MBA, etc.)   \n\n                                         UndergradMajor  ...  \\\n1107  Computer science, computer engineering, or sof...  ...   \n1108  Information systems, information technology, o...  ...   \n1109  Computer science, computer engineering, or sof...  ...   \n1110  Computer science, computer engineering, or sof...  ...   \n1111  Computer science, computer engineering, or sof...  ...   \n...                                                 ...  ...   \n2265                                                NaN  ...   \n2266  Information systems, information technology, o...  ...   \n2267  Another engineering discipline (ex. civil, ele...  ...   \n2268  A natural science (ex. biology, chemistry, phy...  ...   \n2269  Computer science, computer engineering, or sof...  ...   \n\n                                 WelcomeChange  \\\n1107   Just as welcome now as I felt last year   \n1108  Somewhat more welcome now than last year   \n1109  Somewhat more welcome now than last year   \n1110   Just as welcome now as I felt last year   \n1111   Just as welcome now as I felt last year   \n...                                        ...   \n2265  Somewhat less welcome now than last year   \n2266   Just as welcome now as I felt last year   \n2267  Somewhat less welcome now than last year   \n2268   Just as welcome now as I felt last year   \n2269   Just as welcome now as I felt last year   \n\n                                           SONewContent   Age Gender Trans  \\\n1107                                                NaN  24.0    Man    No   \n1108  Tech meetups or events in your area;Courses on...  24.0    Man    No   \n1109  Tech articles written by other developers;Indu...  27.0    Man    No   \n1110  Tech articles written by other developers;Indu...  24.0    Man    No   \n1111                                                NaN   NaN  Woman    No   \n...                                                 ...   ...    ...   ...   \n2265  Tech articles written by other developers;Indu...  31.0    Man    No   \n2266                Tech meetups or events in your area  27.0    Man    No   \n2267                                                NaN  36.0    Man    No   \n2268                                                NaN  40.0    Man    No   \n2269                                                NaN  27.0    Man    No   \n\n                                            Sexuality  \\\n1107                          Straight / Heterosexual   \n1108                          Straight / Heterosexual   \n1109                          Straight / Heterosexual   \n1110                          Straight / Heterosexual   \n1111                          Straight / Heterosexual   \n...                                               ...   \n2265  Bisexual;Gay or Lesbian;Straight / Heterosexual   \n2266                          Straight / Heterosexual   \n2267                          Straight / Heterosexual   \n2268                          Straight / Heterosexual   \n2269                                              NaN   \n\n                                              Ethnicity Dependents  \\\n1107                       White or of European descent         No   \n1108                       White or of European descent         No   \n1109  Black or of African descent;White or of Europe...         No   \n1110                       White or of European descent         No   \n1111                                           Biracial         No   \n...                                                 ...        ...   \n2265  Black or of African descent;Hispanic or Latino...        Yes   \n2266                       White or of European descent         No   \n2267                       White or of European descent        Yes   \n2268                       White or of European descent        Yes   \n2269                       White or of European descent         No   \n\n               SurveyLength                  SurveyEase  \n1107  Appropriate in length                        Easy  \n1108               Too long                        Easy  \n1109  Appropriate in length  Neither easy nor difficult  \n1110  Appropriate in length                        Easy  \n1111               Too long                        Easy  \n...                     ...                         ...  \n2265               Too long  Neither easy nor difficult  \n2266  Appropriate in length                        Easy  \n2267               Too long                        Easy  \n2268  Appropriate in length                        Easy  \n2269  Appropriate in length                        Easy  \n\n[154 rows x 85 columns]",
            "text/html": "<div>\n<style scoped>\n    .dataframe tbody tr th:only-of-type {\n        vertical-align: middle;\n    }\n\n    .dataframe tbody tr th {\n        vertical-align: top;\n    }\n\n    .dataframe thead th {\n        text-align: right;\n    }\n</style>\n<table border=\"1\" class=\"dataframe\">\n  <thead>\n    <tr style=\"text-align: right;\">\n      <th></th>\n      <th>Respondent</th>\n      <th>MainBranch</th>\n      <th>Hobbyist</th>\n      <th>OpenSourcer</th>\n      <th>OpenSource</th>\n      <th>Employment</th>\n      <th>Country</th>\n      <th>Student</th>\n      <th>EdLevel</th>\n      <th>UndergradMajor</th>\n      <th>...</th>\n      <th>WelcomeChange</th>\n      <th>SONewContent</th>\n      <th>Age</th>\n      <th>Gender</th>\n      <th>Trans</th>\n      <th>Sexuality</th>\n      <th>Ethnicity</th>\n      <th>Dependents</th>\n      <th>SurveyLength</th>\n      <th>SurveyEase</th>\n    </tr>\n  </thead>\n  <tbody>\n    <tr>\n      <th>1107</th>\n      <td>2339</td>\n      <td>I am a developer by profession</td>\n      <td>Yes</td>\n      <td>Once a month or more often</td>\n      <td>OSS is, on average, of HIGHER quality than pro...</td>\n      <td>Employed full-time</td>\n      <td>United States</td>\n      <td>No</td>\n      <td>Some college/university study without earning ...</td>\n      <td>Computer science, computer engineering, or sof...</td>\n      <td>...</td>\n      <td>Just as welcome now as I felt last year</td>\n      <td>NaN</td>\n      <td>24.0</td>\n      <td>Man</td>\n      <td>No</td>\n      <td>Straight / Heterosexual</td>\n      <td>White or of European descent</td>\n      <td>No</td>\n      <td>Appropriate in length</td>\n      <td>Easy</td>\n    </tr>\n    <tr>\n      <th>1108</th>\n      <td>2342</td>\n      <td>I am a developer by profession</td>\n      <td>Yes</td>\n      <td>Never</td>\n      <td>The quality of OSS and closed source software ...</td>\n      <td>Employed full-time</td>\n      <td>United Kingdom</td>\n      <td>No</td>\n      <td>Some college/university study without earning ...</td>\n      <td>Information systems, information technology, o...</td>\n      <td>...</td>\n      <td>Somewhat more welcome now than last year</td>\n      <td>Tech meetups or events in your area;Courses on...</td>\n      <td>24.0</td>\n      <td>Man</td>\n      <td>No</td>\n      <td>Straight / Heterosexual</td>\n      <td>White or of European descent</td>\n      <td>No</td>\n      <td>Too long</td>\n      <td>Easy</td>\n    </tr>\n    <tr>\n      <th>1109</th>\n      <td>2343</td>\n      <td>I am a developer by profession</td>\n      <td>Yes</td>\n      <td>Less than once a month but more than once per ...</td>\n      <td>OSS is, on average, of LOWER quality than prop...</td>\n      <td>Employed full-time</td>\n      <td>Canada</td>\n      <td>No</td>\n      <td>Master’s degree (MA, MS, M.Eng., MBA, etc.)</td>\n      <td>Computer science, computer engineering, or sof...</td>\n      <td>...</td>\n      <td>Somewhat more welcome now than last year</td>\n      <td>Tech articles written by other developers;Indu...</td>\n      <td>27.0</td>\n      <td>Man</td>\n      <td>No</td>\n      <td>Straight / Heterosexual</td>\n      <td>Black or of African descent;White or of Europe...</td>\n      <td>No</td>\n      <td>Appropriate in length</td>\n      <td>Neither easy nor difficult</td>\n    </tr>\n    <tr>\n      <th>1110</th>\n      <td>2344</td>\n      <td>I am a developer by profession</td>\n      <td>Yes</td>\n      <td>Never</td>\n      <td>The quality of OSS and closed source software ...</td>\n      <td>Employed full-time</td>\n      <td>United States</td>\n      <td>No</td>\n      <td>Bachelor’s degree (BA, BS, B.Eng., etc.)</td>\n      <td>Computer science, computer engineering, or sof...</td>\n      <td>...</td>\n      <td>Just as welcome now as I felt last year</td>\n      <td>Tech articles written by other developers;Indu...</td>\n      <td>24.0</td>\n      <td>Man</td>\n      <td>No</td>\n      <td>Straight / Heterosexual</td>\n      <td>White or of European descent</td>\n      <td>No</td>\n      <td>Appropriate in length</td>\n      <td>Easy</td>\n    </tr>\n    <tr>\n      <th>1111</th>\n      <td>2347</td>\n      <td>I am a developer by profession</td>\n      <td>Yes</td>\n      <td>Never</td>\n      <td>OSS is, on average, of HIGHER quality than pro...</td>\n      <td>Employed full-time</td>\n      <td>United Kingdom</td>\n      <td>No</td>\n      <td>Master’s degree (MA, MS, M.Eng., MBA, etc.)</td>\n      <td>Computer science, computer engineering, or sof...</td>\n      <td>...</td>\n      <td>Just as welcome now as I felt last year</td>\n      <td>NaN</td>\n      <td>NaN</td>\n      <td>Woman</td>\n      <td>No</td>\n      <td>Straight / Heterosexual</td>\n      <td>Biracial</td>\n      <td>No</td>\n      <td>Too long</td>\n      <td>Easy</td>\n    </tr>\n    <tr>\n      <th>...</th>\n      <td>...</td>\n      <td>...</td>\n      <td>...</td>\n      <td>...</td>\n      <td>...</td>\n      <td>...</td>\n      <td>...</td>\n      <td>...</td>\n      <td>...</td>\n      <td>...</td>\n      <td>...</td>\n      <td>...</td>\n      <td>...</td>\n      <td>...</td>\n      <td>...</td>\n      <td>...</td>\n      <td>...</td>\n      <td>...</td>\n      <td>...</td>\n      <td>...</td>\n      <td>...</td>\n    </tr>\n    <tr>\n      <th>2265</th>\n      <td>4674</td>\n      <td>I am not primarily a developer, but I write co...</td>\n      <td>Yes</td>\n      <td>Less than once per year</td>\n      <td>The quality of OSS and closed source software ...</td>\n      <td>Employed full-time</td>\n      <td>Bangladesh</td>\n      <td>No</td>\n      <td>Bachelor’s degree (BA, BS, B.Eng., etc.)</td>\n      <td>NaN</td>\n      <td>...</td>\n      <td>Somewhat less welcome now than last year</td>\n      <td>Tech articles written by other developers;Indu...</td>\n      <td>31.0</td>\n      <td>Man</td>\n      <td>No</td>\n      <td>Bisexual;Gay or Lesbian;Straight / Heterosexual</td>\n      <td>Black or of African descent;Hispanic or Latino...</td>\n      <td>Yes</td>\n      <td>Too long</td>\n      <td>Neither easy nor difficult</td>\n    </tr>\n    <tr>\n      <th>2266</th>\n      <td>4675</td>\n      <td>I am a developer by profession</td>\n      <td>Yes</td>\n      <td>Never</td>\n      <td>OSS is, on average, of HIGHER quality than pro...</td>\n      <td>Employed full-time</td>\n      <td>United States</td>\n      <td>No</td>\n      <td>Bachelor’s degree (BA, BS, B.Eng., etc.)</td>\n      <td>Information systems, information technology, o...</td>\n      <td>...</td>\n      <td>Just as welcome now as I felt last year</td>\n      <td>Tech meetups or events in your area</td>\n      <td>27.0</td>\n      <td>Man</td>\n      <td>No</td>\n      <td>Straight / Heterosexual</td>\n      <td>White or of European descent</td>\n      <td>No</td>\n      <td>Appropriate in length</td>\n      <td>Easy</td>\n    </tr>\n    <tr>\n      <th>2267</th>\n      <td>4676</td>\n      <td>I am a developer by profession</td>\n      <td>Yes</td>\n      <td>Never</td>\n      <td>OSS is, on average, of HIGHER quality than pro...</td>\n      <td>Employed full-time</td>\n      <td>Finland</td>\n      <td>No</td>\n      <td>Master’s degree (MA, MS, M.Eng., MBA, etc.)</td>\n      <td>Another engineering discipline (ex. civil, ele...</td>\n      <td>...</td>\n      <td>Somewhat less welcome now than last year</td>\n      <td>NaN</td>\n      <td>36.0</td>\n      <td>Man</td>\n      <td>No</td>\n      <td>Straight / Heterosexual</td>\n      <td>White or of European descent</td>\n      <td>Yes</td>\n      <td>Too long</td>\n      <td>Easy</td>\n    </tr>\n    <tr>\n      <th>2268</th>\n      <td>4677</td>\n      <td>I am a developer by profession</td>\n      <td>Yes</td>\n      <td>Once a month or more often</td>\n      <td>OSS is, on average, of HIGHER quality than pro...</td>\n      <td>Employed full-time</td>\n      <td>United Kingdom</td>\n      <td>No</td>\n      <td>Bachelor’s degree (BA, BS, B.Eng., etc.)</td>\n      <td>A natural science (ex. biology, chemistry, phy...</td>\n      <td>...</td>\n      <td>Just as welcome now as I felt last year</td>\n      <td>NaN</td>\n      <td>40.0</td>\n      <td>Man</td>\n      <td>No</td>\n      <td>Straight / Heterosexual</td>\n      <td>White or of European descent</td>\n      <td>Yes</td>\n      <td>Appropriate in length</td>\n      <td>Easy</td>\n    </tr>\n    <tr>\n      <th>2269</th>\n      <td>4679</td>\n      <td>I am a developer by profession</td>\n      <td>Yes</td>\n      <td>Less than once a month but more than once per ...</td>\n      <td>The quality of OSS and closed source software ...</td>\n      <td>Employed full-time</td>\n      <td>United States</td>\n      <td>No</td>\n      <td>Master’s degree (MA, MS, M.Eng., MBA, etc.)</td>\n      <td>Computer science, computer engineering, or sof...</td>\n      <td>...</td>\n      <td>Just as welcome now as I felt last year</td>\n      <td>NaN</td>\n      <td>27.0</td>\n      <td>Man</td>\n      <td>No</td>\n      <td>NaN</td>\n      <td>White or of European descent</td>\n      <td>No</td>\n      <td>Appropriate in length</td>\n      <td>Easy</td>\n    </tr>\n  </tbody>\n</table>\n<p>154 rows × 85 columns</p>\n</div>"
          },
          "metadata": {}
        }
      ],
      "execution_count": 16
    },
    {
      "cell_type": "markdown",
      "source": "## Removing duplicates\n",
      "metadata": {}
    },
    {
      "cell_type": "markdown",
      "source": "Remove the duplicate rows from the dataframe.\n",
      "metadata": {}
    },
    {
      "cell_type": "code",
      "source": "# your code goes here\ndf_duplicates = df.drop_duplicates(keep=False,inplace=True)\ndf_duplicates\n",
      "metadata": {
        "trusted": true
      },
      "outputs": [],
      "execution_count": 21
    },
    {
      "cell_type": "markdown",
      "source": "Verify if duplicates were actually dropped.\n",
      "metadata": {}
    },
    {
      "cell_type": "code",
      "source": "# your code goes here\ndf_no_duplicated=df[df.duplicated()]\ndf_no_duplicated",
      "metadata": {
        "trusted": true
      },
      "outputs": [
        {
          "execution_count": 22,
          "output_type": "execute_result",
          "data": {
            "text/plain": "Empty DataFrame\nColumns: [Respondent, MainBranch, Hobbyist, OpenSourcer, OpenSource, Employment, Country, Student, EdLevel, UndergradMajor, EduOther, OrgSize, DevType, YearsCode, Age1stCode, YearsCodePro, CareerSat, JobSat, MgrIdiot, MgrMoney, MgrWant, JobSeek, LastHireDate, LastInt, FizzBuzz, JobFactors, ResumeUpdate, CurrencySymbol, CurrencyDesc, CompTotal, CompFreq, ConvertedComp, WorkWeekHrs, WorkPlan, WorkChallenge, WorkRemote, WorkLoc, ImpSyn, CodeRev, CodeRevHrs, UnitTests, PurchaseHow, PurchaseWhat, LanguageWorkedWith, LanguageDesireNextYear, DatabaseWorkedWith, DatabaseDesireNextYear, PlatformWorkedWith, PlatformDesireNextYear, WebFrameWorkedWith, WebFrameDesireNextYear, MiscTechWorkedWith, MiscTechDesireNextYear, DevEnviron, OpSys, Containers, BlockchainOrg, BlockchainIs, BetterLife, ITperson, OffOn, SocialMedia, Extraversion, ScreenName, SOVisit1st, SOVisitFreq, SOVisitTo, SOFindAnswer, SOTimeSaved, SOHowMuchTime, SOAccount, SOPartFreq, SOJobs, EntTeams, SOComm, WelcomeChange, SONewContent, Age, Gender, Trans, Sexuality, Ethnicity, Dependents, SurveyLength, SurveyEase]\nIndex: []\n\n[0 rows x 85 columns]",
            "text/html": "<div>\n<style scoped>\n    .dataframe tbody tr th:only-of-type {\n        vertical-align: middle;\n    }\n\n    .dataframe tbody tr th {\n        vertical-align: top;\n    }\n\n    .dataframe thead th {\n        text-align: right;\n    }\n</style>\n<table border=\"1\" class=\"dataframe\">\n  <thead>\n    <tr style=\"text-align: right;\">\n      <th></th>\n      <th>Respondent</th>\n      <th>MainBranch</th>\n      <th>Hobbyist</th>\n      <th>OpenSourcer</th>\n      <th>OpenSource</th>\n      <th>Employment</th>\n      <th>Country</th>\n      <th>Student</th>\n      <th>EdLevel</th>\n      <th>UndergradMajor</th>\n      <th>...</th>\n      <th>WelcomeChange</th>\n      <th>SONewContent</th>\n      <th>Age</th>\n      <th>Gender</th>\n      <th>Trans</th>\n      <th>Sexuality</th>\n      <th>Ethnicity</th>\n      <th>Dependents</th>\n      <th>SurveyLength</th>\n      <th>SurveyEase</th>\n    </tr>\n  </thead>\n  <tbody>\n  </tbody>\n</table>\n<p>0 rows × 85 columns</p>\n</div>"
          },
          "metadata": {}
        }
      ],
      "execution_count": 22
    },
    {
      "cell_type": "markdown",
      "source": "## Finding Missing values\n",
      "metadata": {}
    },
    {
      "cell_type": "markdown",
      "source": "Find the missing values for all columns.\n",
      "metadata": {}
    },
    {
      "cell_type": "code",
      "source": "# your code goes here\ndf.isnull().sum()",
      "metadata": {
        "trusted": true
      },
      "outputs": [
        {
          "execution_count": 23,
          "output_type": "execute_result",
          "data": {
            "text/plain": "Respondent        0\nMainBranch        0\nHobbyist          0\nOpenSourcer       0\nOpenSource       81\n               ... \nSexuality       539\nEthnicity       670\nDependents      138\nSurveyLength     19\nSurveyEase       14\nLength: 85, dtype: int64"
          },
          "metadata": {}
        }
      ],
      "execution_count": 23
    },
    {
      "cell_type": "markdown",
      "source": "Find out how many rows are missing in the column 'WorkLoc'\n",
      "metadata": {}
    },
    {
      "cell_type": "code",
      "source": "# your code goes here\ndf['WorkLoc'].isnull().sum()",
      "metadata": {
        "trusted": true
      },
      "outputs": [
        {
          "execution_count": 24,
          "output_type": "execute_result",
          "data": {
            "text/plain": "32"
          },
          "metadata": {}
        }
      ],
      "execution_count": 24
    },
    {
      "cell_type": "markdown",
      "source": "## Imputing missing values\n",
      "metadata": {}
    },
    {
      "cell_type": "markdown",
      "source": "Find the  value counts for the column WorkLoc.\n",
      "metadata": {}
    },
    {
      "cell_type": "code",
      "source": "# your code goes here\ndf['WorkLoc'].value_counts()",
      "metadata": {
        "trusted": true
      },
      "outputs": [
        {
          "execution_count": 25,
          "output_type": "execute_result",
          "data": {
            "text/plain": "Office                                            6747\nHome                                              3559\nOther place, such as a coworking space or cafe     967\nName: WorkLoc, dtype: int64"
          },
          "metadata": {}
        }
      ],
      "execution_count": 25
    },
    {
      "cell_type": "markdown",
      "source": "Identify the value that is most frequent (majority) in the WorkLoc column.\n",
      "metadata": {}
    },
    {
      "cell_type": "code",
      "source": "#make a note of the majority value here, for future reference\nmajority=df['WorkLoc'].value_counts().idxmax()\nprint('most frequent (majority) in the WorkLoc column ',majority)",
      "metadata": {
        "trusted": true
      },
      "outputs": [
        {
          "name": "stdout",
          "text": "most frequent (majority) in the WorkLoc column  Office\n",
          "output_type": "stream"
        }
      ],
      "execution_count": 26
    },
    {
      "cell_type": "markdown",
      "source": "Impute (replace) all the empty rows in the column WorkLoc with the value that you have identified as majority.\n",
      "metadata": {}
    },
    {
      "cell_type": "code",
      "source": "# your code goes here\ndf['WorkLoc'].fillna('Office',inplace=True)",
      "metadata": {
        "trusted": true
      },
      "outputs": [],
      "execution_count": 27
    },
    {
      "cell_type": "markdown",
      "source": "After imputation there should ideally not be any empty rows in the WorkLoc column.\n",
      "metadata": {}
    },
    {
      "cell_type": "markdown",
      "source": "Verify if imputing was successful.\n",
      "metadata": {}
    },
    {
      "cell_type": "code",
      "source": "# your code goes here\ndf['WorkLoc'].isna().sum()\n#df['WorkLoc'].isnull().sum()\n\n",
      "metadata": {
        "trusted": true
      },
      "outputs": [
        {
          "execution_count": 29,
          "output_type": "execute_result",
          "data": {
            "text/plain": "0"
          },
          "metadata": {}
        }
      ],
      "execution_count": 29
    },
    {
      "cell_type": "markdown",
      "source": "## Normalizing data\n",
      "metadata": {}
    },
    {
      "cell_type": "markdown",
      "source": "There are two columns in the dataset that talk about compensation.\n\nOne is \"CompFreq\". This column shows how often a developer is paid (Yearly, Monthly, Weekly).\n\nThe other is \"CompTotal\". This column talks about how much the developer is paid per Year, Month, or Week depending upon his/her \"CompFreq\". \n\nThis makes it difficult to compare the total compensation of the developers.\n\nIn this section you will create a new column called 'NormalizedAnnualCompensation' which contains the 'Annual Compensation' irrespective of the 'CompFreq'.\n\nOnce this column is ready, it makes comparison of salaries easy.\n",
      "metadata": {}
    },
    {
      "cell_type": "markdown",
      "source": "<hr>\n",
      "metadata": {}
    },
    {
      "cell_type": "markdown",
      "source": "List out the various categories in the column 'CompFreq'\n",
      "metadata": {}
    },
    {
      "cell_type": "code",
      "source": "# your code goes here\ndf['CompFreq'].value_counts().index",
      "metadata": {
        "trusted": true
      },
      "outputs": [
        {
          "execution_count": 34,
          "output_type": "execute_result",
          "data": {
            "text/plain": "Index(['Yearly', 'Monthly', 'Weekly'], dtype='object')"
          },
          "metadata": {}
        }
      ],
      "execution_count": 34
    },
    {
      "cell_type": "markdown",
      "source": "Create a new column named 'NormalizedAnnualCompensation'. Use the hint given below if needed.\n",
      "metadata": {}
    },
    {
      "cell_type": "markdown",
      "source": "Double click to see the **Hint**.\n\n<!--\n\nUse the below logic to arrive at the values for the column NormalizedAnnualCompensation.\n\nIf the CompFreq is Yearly then use the exising value in CompTotal\nIf the CompFreq is Monthly then multiply the value in CompTotal with 12 (months in an year)\nIf the CompFreq is Weekly then multiply the value in CompTotal with 52 (weeks in an year)\n\n-->\n",
      "metadata": {}
    },
    {
      "cell_type": "code",
      "source": "# your code goes here\nannualcomp=[]\ndef NAC():\n    for x,y in zip(df['CompFreq'], df['CompTotal']):\n        if x=='Monthly':\n            annualcomp.append(y*12)\n        elif x=='Weekly':\n            annualcomp.append(y*52)\n        else:\n            annualcomp.append(y)\nNAC()\n          \ndf['NormalizedAnnualCompensation']=annualcomp\ndf[['NormalizedAnnualCompensation']]",
      "metadata": {
        "trusted": true
      },
      "outputs": [
        {
          "execution_count": 35,
          "output_type": "execute_result",
          "data": {
            "text/plain": "       NormalizedAnnualCompensation\n0                           61000.0\n1                          138000.0\n2                           90000.0\n3                          348000.0\n4                           90000.0\n...                             ...\n11547                      130000.0\n11548                       74400.0\n11549                      105000.0\n11550                       80000.0\n11551                           NaN\n\n[11305 rows x 1 columns]",
            "text/html": "<div>\n<style scoped>\n    .dataframe tbody tr th:only-of-type {\n        vertical-align: middle;\n    }\n\n    .dataframe tbody tr th {\n        vertical-align: top;\n    }\n\n    .dataframe thead th {\n        text-align: right;\n    }\n</style>\n<table border=\"1\" class=\"dataframe\">\n  <thead>\n    <tr style=\"text-align: right;\">\n      <th></th>\n      <th>NormalizedAnnualCompensation</th>\n    </tr>\n  </thead>\n  <tbody>\n    <tr>\n      <th>0</th>\n      <td>61000.0</td>\n    </tr>\n    <tr>\n      <th>1</th>\n      <td>138000.0</td>\n    </tr>\n    <tr>\n      <th>2</th>\n      <td>90000.0</td>\n    </tr>\n    <tr>\n      <th>3</th>\n      <td>348000.0</td>\n    </tr>\n    <tr>\n      <th>4</th>\n      <td>90000.0</td>\n    </tr>\n    <tr>\n      <th>...</th>\n      <td>...</td>\n    </tr>\n    <tr>\n      <th>11547</th>\n      <td>130000.0</td>\n    </tr>\n    <tr>\n      <th>11548</th>\n      <td>74400.0</td>\n    </tr>\n    <tr>\n      <th>11549</th>\n      <td>105000.0</td>\n    </tr>\n    <tr>\n      <th>11550</th>\n      <td>80000.0</td>\n    </tr>\n    <tr>\n      <th>11551</th>\n      <td>NaN</td>\n    </tr>\n  </tbody>\n</table>\n<p>11305 rows × 1 columns</p>\n</div>"
          },
          "metadata": {}
        }
      ],
      "execution_count": 35
    },
    {
      "cell_type": "markdown",
      "source": "## Authors\n",
      "metadata": {}
    },
    {
      "cell_type": "markdown",
      "source": "Ramesh Sannareddy\n",
      "metadata": {}
    },
    {
      "cell_type": "markdown",
      "source": "### Other Contributors\n",
      "metadata": {}
    },
    {
      "cell_type": "markdown",
      "source": "Rav Ahuja\n",
      "metadata": {}
    },
    {
      "cell_type": "markdown",
      "source": "## Change Log\n",
      "metadata": {}
    },
    {
      "cell_type": "markdown",
      "source": "| Date (YYYY-MM-DD) | Version | Changed By        | Change Description                 |\n| ----------------- | ------- | ----------------- | ---------------------------------- |\n| 2020-10-17        | 0.1     | Ramesh Sannareddy | Created initial version of the lab |\n",
      "metadata": {}
    },
    {
      "cell_type": "markdown",
      "source": " Copyright © 2020 IBM Corporation. This notebook and its source code are released under the terms of the [MIT License](https://cognitiveclass.ai/mit-license?utm_medium=Exinfluencer&utm_source=Exinfluencer&utm_content=000026UJ&utm_term=10006555&utm_id=NA-SkillsNetwork-Channel-SkillsNetworkCoursesIBMDA0321ENSkillsNetwork928-2022-01-01&cm_mmc=Email_Newsletter-_-Developer_Ed%2BTech-_-WW_WW-_-SkillsNetwork-Courses-IBM-DA0321EN-SkillsNetwork-21426264&cm_mmca1=000026UJ&cm_mmca2=10006555&cm_mmca3=M12345678&cvosrc=email.Newsletter.M12345678&cvo_campaign=000026UJ).\n",
      "metadata": {}
    }
  ]
}